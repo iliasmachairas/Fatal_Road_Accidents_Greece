{
 "cells": [
  {
   "cell_type": "code",
   "execution_count": 1,
   "id": "0c3dea75",
   "metadata": {},
   "outputs": [],
   "source": [
    "import numpy as np\n",
    "import matplotlib.pyplot as plt\n",
    "import pandas as pd\n",
    "import geopandas as gpd\n",
    "%matplotlib inline"
   ]
  },
  {
   "cell_type": "markdown",
   "id": "5a75eb0d",
   "metadata": {},
   "source": [
    "# Checking one datasset"
   ]
  },
  {
   "cell_type": "code",
   "execution_count": 2,
   "id": "06e38bb2",
   "metadata": {},
   "outputs": [
    {
     "data": {
      "text/plain": [
       "<AxesSubplot:>"
      ]
     },
     "execution_count": 2,
     "metadata": {},
     "output_type": "execute_result"
    },
    {
     "data": {
      "image/png": "[encoded data removed]",
      "text/plain": [
       "<Figure size 432x288 with 1 Axes>"
      ]
     },
     "metadata": {
      "needs_background": "light"
     },
     "output_type": "display_data"
    }
   ],
   "source": [
    "data_2012 = gpd.read_file('Data/2012.shp')\n",
    "data_2012.plot()"
   ]
  },
  {
   "cell_type": "code",
   "execution_count": 3,
   "id": "39e93ff6",
   "metadata": {},
   "outputs": [
    {
     "data": {
      "text/html": [
       "<div>\n",
       "<style scoped>\n",
       "    .dataframe tbody tr th:only-of-type {\n",
       "        vertical-align: middle;\n",
       "    }\n",
       "\n",
       "    .dataframe tbody tr th {\n",
       "        vertical-align: top;\n",
       "    }\n",
       "\n",
       "    .dataframe thead th {\n",
       "        text-align: right;\n",
       "    }\n",
       "</style>\n",
       "<table border=\"1\" class=\"dataframe\">\n",
       "  <thead>\n",
       "    <tr style=\"text-align: right;\">\n",
       "      <th></th>\n",
       "      <th>Date</th>\n",
       "      <th>Police_Sta</th>\n",
       "      <th>Road</th>\n",
       "      <th>Address</th>\n",
       "      <th>City</th>\n",
       "      <th>State</th>\n",
       "      <th>Zip_code</th>\n",
       "      <th>Time</th>\n",
       "      <th>Kind</th>\n",
       "      <th>Reason</th>\n",
       "      <th>Vehicle</th>\n",
       "      <th>Victim</th>\n",
       "      <th>Age</th>\n",
       "      <th>Year</th>\n",
       "      <th>geometry</th>\n",
       "    </tr>\n",
       "  </thead>\n",
       "  <tbody>\n",
       "    <tr>\n",
       "      <th>0</th>\n",
       "      <td>2012-01-01</td>\n",
       "      <td>Δ. ΤΡΟΧ. ΑΤΤΙΚΗΣ</td>\n",
       "      <td>Κατοικημένη Περιοχή</td>\n",
       "      <td>34 Πόντου</td>\n",
       "      <td>Κηφισιά</td>\n",
       "      <td>Αττική</td>\n",
       "      <td>14671.0</td>\n",
       "      <td>17:00 - 21:00</td>\n",
       "      <td>Παράσυρση Πεζού</td>\n",
       "      <td>Αίτια αναφερόμενα στους πεζούς</td>\n",
       "      <td>Ι.Χ.Ε.</td>\n",
       "      <td>Πεζός</td>\n",
       "      <td>55+</td>\n",
       "      <td>2012</td>\n",
       "      <td>POINT Z (23.82513 38.08493 0.00000)</td>\n",
       "    </tr>\n",
       "    <tr>\n",
       "      <th>1</th>\n",
       "      <td>2012-01-02</td>\n",
       "      <td>Δ. ΤΡΟΧ. ΑΤΤΙΚΗΣ</td>\n",
       "      <td>Κατοικημένη Περιοχή</td>\n",
       "      <td>Δοϊράνης &amp; Φιλαρέτου</td>\n",
       "      <td>Καλλιθέα</td>\n",
       "      <td>Αττική</td>\n",
       "      <td>17673.0</td>\n",
       "      <td>09:00 - 13:00</td>\n",
       "      <td>Εκτροπή</td>\n",
       "      <td>Λοιπά αίτια αναφερόμενα σε οδηγούς</td>\n",
       "      <td>Δίκυκλο</td>\n",
       "      <td>Οδηγός</td>\n",
       "      <td>46-55</td>\n",
       "      <td>2012</td>\n",
       "      <td>POINT Z (23.70652 37.95023 0.00000)</td>\n",
       "    </tr>\n",
       "  </tbody>\n",
       "</table>\n",
       "</div>"
      ],
      "text/plain": [
       "         Date        Police_Sta                 Road               Address  \\\n",
       "0  2012-01-01  Δ. ΤΡΟΧ. ΑΤΤΙΚΗΣ  Κατοικημένη Περιοχή             34 Πόντου   \n",
       "1  2012-01-02  Δ. ΤΡΟΧ. ΑΤΤΙΚΗΣ  Κατοικημένη Περιοχή  Δοϊράνης & Φιλαρέτου   \n",
       "\n",
       "       City   State  Zip_code           Time             Kind  \\\n",
       "0   Κηφισιά  Αττική   14671.0  17:00 - 21:00  Παράσυρση Πεζού   \n",
       "1  Καλλιθέα  Αττική   17673.0  09:00 - 13:00          Εκτροπή   \n",
       "\n",
       "                               Reason  Vehicle  Victim    Age  Year  \\\n",
       "0      Αίτια αναφερόμενα στους πεζούς   Ι.Χ.Ε.   Πεζός    55+  2012   \n",
       "1  Λοιπά αίτια αναφερόμενα σε οδηγούς  Δίκυκλο  Οδηγός  46-55  2012   \n",
       "\n",
       "                              geometry  \n",
       "0  POINT Z (23.82513 38.08493 0.00000)  \n",
       "1  POINT Z (23.70652 37.95023 0.00000)  "
      ]
     },
     "execution_count": 3,
     "metadata": {},
     "output_type": "execute_result"
    }
   ],
   "source": [
    "data_2012.head(2)"
   ]
  },
  {
   "cell_type": "markdown",
   "id": "c4f1c91e",
   "metadata": {},
   "source": [
    "# Merging dataframes"
   ]
  },
  {
   "cell_type": "code",
   "execution_count": 4,
   "id": "35d8f090",
   "metadata": {},
   "outputs": [
    {
     "data": {
      "text/plain": [
       "<generator object Path.glob at 0x00000269000AC0B0>"
      ]
     },
     "execution_count": 4,
     "metadata": {},
     "output_type": "execute_result"
    }
   ],
   "source": [
    "from pathlib import Path\n",
    "folder = Path(\"Data\")\n",
    "shapefiles = folder.glob(\"201*.shp\")\n",
    "shapefiles"
   ]
  },
  {
   "cell_type": "code",
   "execution_count": 5,
   "id": "2be58e59",
   "metadata": {},
   "outputs": [],
   "source": [
    " gdf = pd.concat([\n",
    "    gpd.read_file(shp)\n",
    "    for shp in shapefiles\n",
    "]).pipe(gpd.GeoDataFrame)"
   ]
  },
  {
   "cell_type": "code",
   "execution_count": 6,
   "id": "1a3f3e59",
   "metadata": {},
   "outputs": [
    {
     "data": {
      "text/html": [
       "<div>\n",
       "<style scoped>\n",
       "    .dataframe tbody tr th:only-of-type {\n",
       "        vertical-align: middle;\n",
       "    }\n",
       "\n",
       "    .dataframe tbody tr th {\n",
       "        vertical-align: top;\n",
       "    }\n",
       "\n",
       "    .dataframe thead th {\n",
       "        text-align: right;\n",
       "    }\n",
       "</style>\n",
       "<table border=\"1\" class=\"dataframe\">\n",
       "  <thead>\n",
       "    <tr style=\"text-align: right;\">\n",
       "      <th></th>\n",
       "      <th>Year</th>\n",
       "      <th>Date</th>\n",
       "      <th>Police_Sta</th>\n",
       "      <th>Road</th>\n",
       "      <th>Address</th>\n",
       "      <th>City</th>\n",
       "      <th>State</th>\n",
       "      <th>Zip_Code</th>\n",
       "      <th>Time</th>\n",
       "      <th>Kind</th>\n",
       "      <th>Reason</th>\n",
       "      <th>Vehicle</th>\n",
       "      <th>Victim</th>\n",
       "      <th>Age</th>\n",
       "      <th>geometry</th>\n",
       "      <th>Zip_code</th>\n",
       "      <th>_Adress</th>\n",
       "    </tr>\n",
       "  </thead>\n",
       "  <tbody>\n",
       "    <tr>\n",
       "      <th>0</th>\n",
       "      <td>2011.0</td>\n",
       "      <td>2011-01-05</td>\n",
       "      <td>Δ. ΤΡΟΧ. ΑΤΤΙΚΗΣ</td>\n",
       "      <td>Κατοικημένη Περιοχή</td>\n",
       "      <td>41 Γρ. Λαμπράκη</td>\n",
       "      <td>Νίκαια</td>\n",
       "      <td>Αττική</td>\n",
       "      <td>18454.0</td>\n",
       "      <td>07:00 - 09:00</td>\n",
       "      <td>Παράσυρση Πεζού</td>\n",
       "      <td>Αίτια αναφερόμενα στους πεζούς</td>\n",
       "      <td>Ι.Χ.Ε.</td>\n",
       "      <td>Πεζός</td>\n",
       "      <td>55+</td>\n",
       "      <td>POINT Z (23.66394 37.97742 0.00000)</td>\n",
       "      <td>NaN</td>\n",
       "      <td>NaN</td>\n",
       "    </tr>\n",
       "    <tr>\n",
       "      <th>1</th>\n",
       "      <td>2011.0</td>\n",
       "      <td>2011-01-05</td>\n",
       "      <td>Δ. ΤΡΟΧ. ΑΤΤΙΚΗΣ</td>\n",
       "      <td>Κατοικημένη Περιοχή</td>\n",
       "      <td>59 Κύπρου</td>\n",
       "      <td>Αχαρναί</td>\n",
       "      <td>Αττική</td>\n",
       "      <td>13671.0</td>\n",
       "      <td>24:00 - 07:00</td>\n",
       "      <td>Παράσυρση Πεζού</td>\n",
       "      <td>Αίτια αναφερόμενα στους πεζούς</td>\n",
       "      <td>Δίκυκλο</td>\n",
       "      <td>Πεζός</td>\n",
       "      <td>0-17</td>\n",
       "      <td>POINT Z (23.74438 38.07660 0.00000)</td>\n",
       "      <td>NaN</td>\n",
       "      <td>NaN</td>\n",
       "    </tr>\n",
       "    <tr>\n",
       "      <th>2</th>\n",
       "      <td>2011.0</td>\n",
       "      <td>2011-01-08</td>\n",
       "      <td>Δ. ΤΡΟΧ. ΑΤΤΙΚΗΣ</td>\n",
       "      <td>Κατοικημένη Περιοχή</td>\n",
       "      <td>3 Ανδρέα Παπανδρέου 3</td>\n",
       "      <td>Ίλιον</td>\n",
       "      <td>Αττική</td>\n",
       "      <td>13121.0</td>\n",
       "      <td>17:00 - 21:00</td>\n",
       "      <td>Εκτροπή</td>\n",
       "      <td>Λοιπά αίτια αναφερόμενα σε οδηγούς</td>\n",
       "      <td>Δίκυκλο</td>\n",
       "      <td>Οδηγός</td>\n",
       "      <td>26-35</td>\n",
       "      <td>POINT Z (23.69530 38.02944 0.00000)</td>\n",
       "      <td>NaN</td>\n",
       "      <td>NaN</td>\n",
       "    </tr>\n",
       "    <tr>\n",
       "      <th>3</th>\n",
       "      <td>2011.0</td>\n",
       "      <td>2011-01-09</td>\n",
       "      <td>Δ. ΤΡΟΧ. ΑΤΤΙΚΗΣ</td>\n",
       "      <td>Λοιπό Οδικό Δίκτυο</td>\n",
       "      <td>Λεωφ. Λαυρίου &amp; Αγ. Θωμά</td>\n",
       "      <td>Παιανία</td>\n",
       "      <td>Αττική</td>\n",
       "      <td>19002.0</td>\n",
       "      <td>09:00 - 13:00</td>\n",
       "      <td>Σύγκρουση</td>\n",
       "      <td>Λοιπά αίτια αναφερόμενα σε οδηγούς</td>\n",
       "      <td>Δίκυκλο</td>\n",
       "      <td>Οδηγός</td>\n",
       "      <td>46-55</td>\n",
       "      <td>POINT Z (23.86179 37.95169 0.00000)</td>\n",
       "      <td>NaN</td>\n",
       "      <td>NaN</td>\n",
       "    </tr>\n",
       "    <tr>\n",
       "      <th>4</th>\n",
       "      <td>2011.0</td>\n",
       "      <td>2011-01-13</td>\n",
       "      <td>Δ. ΤΡΟΧ. ΑΤΤΙΚΗΣ</td>\n",
       "      <td>Κατοικημένη Περιοχή</td>\n",
       "      <td>7 Κύπρου</td>\n",
       "      <td>Βύρωνας</td>\n",
       "      <td>Αττική</td>\n",
       "      <td>16232.0</td>\n",
       "      <td>09:00 - 13:00</td>\n",
       "      <td>Παράσυρση Πεζού</td>\n",
       "      <td>Λοιπά αίτια αναφερόμενα σε οδηγούς</td>\n",
       "      <td>Φορτηγό άνω των 3,5 τόνων</td>\n",
       "      <td>Πεζός</td>\n",
       "      <td>55+</td>\n",
       "      <td>POINT Z (23.75088 37.96302 0.00000)</td>\n",
       "      <td>NaN</td>\n",
       "      <td>NaN</td>\n",
       "    </tr>\n",
       "  </tbody>\n",
       "</table>\n",
       "</div>"
      ],
      "text/plain": [
       "     Year        Date        Police_Sta                 Road  \\\n",
       "0  2011.0  2011-01-05  Δ. ΤΡΟΧ. ΑΤΤΙΚΗΣ  Κατοικημένη Περιοχή   \n",
       "1  2011.0  2011-01-05  Δ. ΤΡΟΧ. ΑΤΤΙΚΗΣ  Κατοικημένη Περιοχή   \n",
       "2  2011.0  2011-01-08  Δ. ΤΡΟΧ. ΑΤΤΙΚΗΣ  Κατοικημένη Περιοχή   \n",
       "3  2011.0  2011-01-09  Δ. ΤΡΟΧ. ΑΤΤΙΚΗΣ   Λοιπό Οδικό Δίκτυο   \n",
       "4  2011.0  2011-01-13  Δ. ΤΡΟΧ. ΑΤΤΙΚΗΣ  Κατοικημένη Περιοχή   \n",
       "\n",
       "                    Address     City   State  Zip_Code           Time  \\\n",
       "0           41 Γρ. Λαμπράκη   Νίκαια  Αττική   18454.0  07:00 - 09:00   \n",
       "1                 59 Κύπρου  Αχαρναί  Αττική   13671.0  24:00 - 07:00   \n",
       "2     3 Ανδρέα Παπανδρέου 3    Ίλιον  Αττική   13121.0  17:00 - 21:00   \n",
       "3  Λεωφ. Λαυρίου & Αγ. Θωμά  Παιανία  Αττική   19002.0  09:00 - 13:00   \n",
       "4                  7 Κύπρου  Βύρωνας  Αττική   16232.0  09:00 - 13:00   \n",
       "\n",
       "              Kind                              Reason  \\\n",
       "0  Παράσυρση Πεζού      Αίτια αναφερόμενα στους πεζούς   \n",
       "1  Παράσυρση Πεζού      Αίτια αναφερόμενα στους πεζούς   \n",
       "2          Εκτροπή  Λοιπά αίτια αναφερόμενα σε οδηγούς   \n",
       "3        Σύγκρουση  Λοιπά αίτια αναφερόμενα σε οδηγούς   \n",
       "4  Παράσυρση Πεζού  Λοιπά αίτια αναφερόμενα σε οδηγούς   \n",
       "\n",
       "                     Vehicle  Victim    Age  \\\n",
       "0                     Ι.Χ.Ε.   Πεζός    55+   \n",
       "1                    Δίκυκλο   Πεζός   0-17   \n",
       "2                    Δίκυκλο  Οδηγός  26-35   \n",
       "3                    Δίκυκλο  Οδηγός  46-55   \n",
       "4  Φορτηγό άνω των 3,5 τόνων   Πεζός    55+   \n",
       "\n",
       "                              geometry  Zip_code _Adress  \n",
       "0  POINT Z (23.66394 37.97742 0.00000)       NaN     NaN  \n",
       "1  POINT Z (23.74438 38.07660 0.00000)       NaN     NaN  \n",
       "2  POINT Z (23.69530 38.02944 0.00000)       NaN     NaN  \n",
       "3  POINT Z (23.86179 37.95169 0.00000)       NaN     NaN  \n",
       "4  POINT Z (23.75088 37.96302 0.00000)       NaN     NaN  "
      ]
     },
     "execution_count": 6,
     "metadata": {},
     "output_type": "execute_result"
    }
   ],
   "source": [
    "gdf.head()"
   ]
  },
  {
   "cell_type": "code",
   "execution_count": 7,
   "id": "e1f683a3",
   "metadata": {},
   "outputs": [],
   "source": [
    "gdf['x'] = gdf.geometry.x\n",
    "gdf['y'] = gdf.geometry.y"
   ]
  },
  {
   "cell_type": "code",
   "execution_count": 8,
   "id": "844ae94b",
   "metadata": {},
   "outputs": [
    {
     "data": {
      "text/plain": [
       "geopandas.geodataframe.GeoDataFrame"
      ]
     },
     "execution_count": 8,
     "metadata": {},
     "output_type": "execute_result"
    }
   ],
   "source": [
    "type(gdf)"
   ]
  },
  {
   "cell_type": "code",
   "execution_count": 9,
   "id": "0f1e3fb9",
   "metadata": {},
   "outputs": [
    {
     "data": {
      "text/html": [
       "<div>\n",
       "<style scoped>\n",
       "    .dataframe tbody tr th:only-of-type {\n",
       "        vertical-align: middle;\n",
       "    }\n",
       "\n",
       "    .dataframe tbody tr th {\n",
       "        vertical-align: top;\n",
       "    }\n",
       "\n",
       "    .dataframe thead th {\n",
       "        text-align: right;\n",
       "    }\n",
       "</style>\n",
       "<table border=\"1\" class=\"dataframe\">\n",
       "  <thead>\n",
       "    <tr style=\"text-align: right;\">\n",
       "      <th></th>\n",
       "      <th>Year</th>\n",
       "      <th>Date</th>\n",
       "      <th>Police_Sta</th>\n",
       "      <th>Road</th>\n",
       "      <th>Address</th>\n",
       "      <th>City</th>\n",
       "      <th>State</th>\n",
       "      <th>Zip_Code</th>\n",
       "      <th>Time</th>\n",
       "      <th>Kind</th>\n",
       "      <th>Reason</th>\n",
       "      <th>Vehicle</th>\n",
       "      <th>Victim</th>\n",
       "      <th>Age</th>\n",
       "      <th>geometry</th>\n",
       "      <th>Zip_code</th>\n",
       "      <th>_Adress</th>\n",
       "      <th>x</th>\n",
       "      <th>y</th>\n",
       "    </tr>\n",
       "  </thead>\n",
       "  <tbody>\n",
       "    <tr>\n",
       "      <th>0</th>\n",
       "      <td>2011.0</td>\n",
       "      <td>2011-01-05</td>\n",
       "      <td>Δ. ΤΡΟΧ. ΑΤΤΙΚΗΣ</td>\n",
       "      <td>Κατοικημένη Περιοχή</td>\n",
       "      <td>41 Γρ. Λαμπράκη</td>\n",
       "      <td>Νίκαια</td>\n",
       "      <td>Αττική</td>\n",
       "      <td>18454.0</td>\n",
       "      <td>07:00 - 09:00</td>\n",
       "      <td>Παράσυρση Πεζού</td>\n",
       "      <td>Αίτια αναφερόμενα στους πεζούς</td>\n",
       "      <td>Ι.Χ.Ε.</td>\n",
       "      <td>Πεζός</td>\n",
       "      <td>55+</td>\n",
       "      <td>POINT Z (23.66394 37.97742 0.00000)</td>\n",
       "      <td>NaN</td>\n",
       "      <td>NaN</td>\n",
       "      <td>23.663936</td>\n",
       "      <td>37.977418</td>\n",
       "    </tr>\n",
       "    <tr>\n",
       "      <th>1</th>\n",
       "      <td>2011.0</td>\n",
       "      <td>2011-01-05</td>\n",
       "      <td>Δ. ΤΡΟΧ. ΑΤΤΙΚΗΣ</td>\n",
       "      <td>Κατοικημένη Περιοχή</td>\n",
       "      <td>59 Κύπρου</td>\n",
       "      <td>Αχαρναί</td>\n",
       "      <td>Αττική</td>\n",
       "      <td>13671.0</td>\n",
       "      <td>24:00 - 07:00</td>\n",
       "      <td>Παράσυρση Πεζού</td>\n",
       "      <td>Αίτια αναφερόμενα στους πεζούς</td>\n",
       "      <td>Δίκυκλο</td>\n",
       "      <td>Πεζός</td>\n",
       "      <td>0-17</td>\n",
       "      <td>POINT Z (23.74438 38.07660 0.00000)</td>\n",
       "      <td>NaN</td>\n",
       "      <td>NaN</td>\n",
       "      <td>23.744384</td>\n",
       "      <td>38.076601</td>\n",
       "    </tr>\n",
       "    <tr>\n",
       "      <th>2</th>\n",
       "      <td>2011.0</td>\n",
       "      <td>2011-01-08</td>\n",
       "      <td>Δ. ΤΡΟΧ. ΑΤΤΙΚΗΣ</td>\n",
       "      <td>Κατοικημένη Περιοχή</td>\n",
       "      <td>3 Ανδρέα Παπανδρέου 3</td>\n",
       "      <td>Ίλιον</td>\n",
       "      <td>Αττική</td>\n",
       "      <td>13121.0</td>\n",
       "      <td>17:00 - 21:00</td>\n",
       "      <td>Εκτροπή</td>\n",
       "      <td>Λοιπά αίτια αναφερόμενα σε οδηγούς</td>\n",
       "      <td>Δίκυκλο</td>\n",
       "      <td>Οδηγός</td>\n",
       "      <td>26-35</td>\n",
       "      <td>POINT Z (23.69530 38.02944 0.00000)</td>\n",
       "      <td>NaN</td>\n",
       "      <td>NaN</td>\n",
       "      <td>23.695299</td>\n",
       "      <td>38.029436</td>\n",
       "    </tr>\n",
       "    <tr>\n",
       "      <th>3</th>\n",
       "      <td>2011.0</td>\n",
       "      <td>2011-01-09</td>\n",
       "      <td>Δ. ΤΡΟΧ. ΑΤΤΙΚΗΣ</td>\n",
       "      <td>Λοιπό Οδικό Δίκτυο</td>\n",
       "      <td>Λεωφ. Λαυρίου &amp; Αγ. Θωμά</td>\n",
       "      <td>Παιανία</td>\n",
       "      <td>Αττική</td>\n",
       "      <td>19002.0</td>\n",
       "      <td>09:00 - 13:00</td>\n",
       "      <td>Σύγκρουση</td>\n",
       "      <td>Λοιπά αίτια αναφερόμενα σε οδηγούς</td>\n",
       "      <td>Δίκυκλο</td>\n",
       "      <td>Οδηγός</td>\n",
       "      <td>46-55</td>\n",
       "      <td>POINT Z (23.86179 37.95169 0.00000)</td>\n",
       "      <td>NaN</td>\n",
       "      <td>NaN</td>\n",
       "      <td>23.861788</td>\n",
       "      <td>37.951686</td>\n",
       "    </tr>\n",
       "    <tr>\n",
       "      <th>4</th>\n",
       "      <td>2011.0</td>\n",
       "      <td>2011-01-13</td>\n",
       "      <td>Δ. ΤΡΟΧ. ΑΤΤΙΚΗΣ</td>\n",
       "      <td>Κατοικημένη Περιοχή</td>\n",
       "      <td>7 Κύπρου</td>\n",
       "      <td>Βύρωνας</td>\n",
       "      <td>Αττική</td>\n",
       "      <td>16232.0</td>\n",
       "      <td>09:00 - 13:00</td>\n",
       "      <td>Παράσυρση Πεζού</td>\n",
       "      <td>Λοιπά αίτια αναφερόμενα σε οδηγούς</td>\n",
       "      <td>Φορτηγό άνω των 3,5 τόνων</td>\n",
       "      <td>Πεζός</td>\n",
       "      <td>55+</td>\n",
       "      <td>POINT Z (23.75088 37.96302 0.00000)</td>\n",
       "      <td>NaN</td>\n",
       "      <td>NaN</td>\n",
       "      <td>23.750877</td>\n",
       "      <td>37.963024</td>\n",
       "    </tr>\n",
       "  </tbody>\n",
       "</table>\n",
       "</div>"
      ],
      "text/plain": [
       "     Year        Date        Police_Sta                 Road  \\\n",
       "0  2011.0  2011-01-05  Δ. ΤΡΟΧ. ΑΤΤΙΚΗΣ  Κατοικημένη Περιοχή   \n",
       "1  2011.0  2011-01-05  Δ. ΤΡΟΧ. ΑΤΤΙΚΗΣ  Κατοικημένη Περιοχή   \n",
       "2  2011.0  2011-01-08  Δ. ΤΡΟΧ. ΑΤΤΙΚΗΣ  Κατοικημένη Περιοχή   \n",
       "3  2011.0  2011-01-09  Δ. ΤΡΟΧ. ΑΤΤΙΚΗΣ   Λοιπό Οδικό Δίκτυο   \n",
       "4  2011.0  2011-01-13  Δ. ΤΡΟΧ. ΑΤΤΙΚΗΣ  Κατοικημένη Περιοχή   \n",
       "\n",
       "                    Address     City   State  Zip_Code           Time  \\\n",
       "0           41 Γρ. Λαμπράκη   Νίκαια  Αττική   18454.0  07:00 - 09:00   \n",
       "1                 59 Κύπρου  Αχαρναί  Αττική   13671.0  24:00 - 07:00   \n",
       "2     3 Ανδρέα Παπανδρέου 3    Ίλιον  Αττική   13121.0  17:00 - 21:00   \n",
       "3  Λεωφ. Λαυρίου & Αγ. Θωμά  Παιανία  Αττική   19002.0  09:00 - 13:00   \n",
       "4                  7 Κύπρου  Βύρωνας  Αττική   16232.0  09:00 - 13:00   \n",
       "\n",
       "              Kind                              Reason  \\\n",
       "0  Παράσυρση Πεζού      Αίτια αναφερόμενα στους πεζούς   \n",
       "1  Παράσυρση Πεζού      Αίτια αναφερόμενα στους πεζούς   \n",
       "2          Εκτροπή  Λοιπά αίτια αναφερόμενα σε οδηγούς   \n",
       "3        Σύγκρουση  Λοιπά αίτια αναφερόμενα σε οδηγούς   \n",
       "4  Παράσυρση Πεζού  Λοιπά αίτια αναφερόμενα σε οδηγούς   \n",
       "\n",
       "                     Vehicle  Victim    Age  \\\n",
       "0                     Ι.Χ.Ε.   Πεζός    55+   \n",
       "1                    Δίκυκλο   Πεζός   0-17   \n",
       "2                    Δίκυκλο  Οδηγός  26-35   \n",
       "3                    Δίκυκλο  Οδηγός  46-55   \n",
       "4  Φορτηγό άνω των 3,5 τόνων   Πεζός    55+   \n",
       "\n",
       "                              geometry  Zip_code _Adress          x          y  \n",
       "0  POINT Z (23.66394 37.97742 0.00000)       NaN     NaN  23.663936  37.977418  \n",
       "1  POINT Z (23.74438 38.07660 0.00000)       NaN     NaN  23.744384  38.076601  \n",
       "2  POINT Z (23.69530 38.02944 0.00000)       NaN     NaN  23.695299  38.029436  \n",
       "3  POINT Z (23.86179 37.95169 0.00000)       NaN     NaN  23.861788  37.951686  \n",
       "4  POINT Z (23.75088 37.96302 0.00000)       NaN     NaN  23.750877  37.963024  "
      ]
     },
     "execution_count": 9,
     "metadata": {},
     "output_type": "execute_result"
    }
   ],
   "source": [
    "FRA_df = pd.DataFrame(gdf)\n",
    "FRA_df.head()"
   ]
  },
  {
   "cell_type": "code",
   "execution_count": 10,
   "id": "eb6a54b9",
   "metadata": {},
   "outputs": [
    {
     "data": {
      "text/plain": [
       "Year            0\n",
       "Date           11\n",
       "Police_Sta    210\n",
       "Road            0\n",
       "Address       211\n",
       "City           29\n",
       "State         210\n",
       "Zip_Code      496\n",
       "Time            0\n",
       "Kind            1\n",
       "Reason          2\n",
       "Vehicle         0\n",
       "Victim          0\n",
       "Age             7\n",
       "geometry        0\n",
       "Zip_code      463\n",
       "_Adress       539\n",
       "x               0\n",
       "y               0\n",
       "dtype: int64"
      ]
     },
     "execution_count": 10,
     "metadata": {},
     "output_type": "execute_result"
    }
   ],
   "source": [
    "FRA_df.isnull().sum()"
   ]
  },
  {
   "cell_type": "code",
   "execution_count": 11,
   "id": "c57271df",
   "metadata": {},
   "outputs": [],
   "source": [
    "FRA_df['Date'] = pd.to_datetime(FRA_df['Date'])\n",
    "FRA_df['year'] = FRA_df.Date.dt.year\n",
    "# FRA_df.dtypes"
   ]
  },
  {
   "cell_type": "code",
   "execution_count": 12,
   "id": "a2c26b8e",
   "metadata": {},
   "outputs": [],
   "source": [
    "FRA_df.replace('Ι.Χ.Ε.', 'car', inplace=True)\n",
    "FRA_df.replace('Δίκυκλο', 'motorcycle', inplace=True)\n",
    "FRA_df.replace('Άλλο','Other', inplace=True)\n",
    "FRA_df.replace('Φορτηγό κάτω των 3,5 τόνων', 'Other', inplace=True)"
   ]
  },
  {
   "cell_type": "code",
   "execution_count": 13,
   "id": "71d7522e",
   "metadata": {},
   "outputs": [],
   "source": [
    "FRA_df.replace('Ι.Χ.Ε.', 'car', inplace=True)"
   ]
  },
  {
   "cell_type": "code",
   "execution_count": 14,
   "id": "6b07fa7a",
   "metadata": {},
   "outputs": [
    {
     "data": {
      "text/plain": [
       "(749, 20)"
      ]
     },
     "execution_count": 14,
     "metadata": {},
     "output_type": "execute_result"
    }
   ],
   "source": [
    "FRA_df.shape"
   ]
  },
  {
   "cell_type": "code",
   "execution_count": 15,
   "id": "21f174b0",
   "metadata": {},
   "outputs": [
    {
     "data": {
      "text/plain": [
       "(738, 20)"
      ]
     },
     "execution_count": 15,
     "metadata": {},
     "output_type": "execute_result"
    }
   ],
   "source": [
    "FRA_df.dropna(subset=['Date'], inplace=True)\n",
    "FRA_df.shape"
   ]
  },
  {
   "cell_type": "code",
   "execution_count": 16,
   "id": "81da9293",
   "metadata": {},
   "outputs": [
    {
     "data": {
      "text/plain": [
       "0"
      ]
     },
     "execution_count": 16,
     "metadata": {},
     "output_type": "execute_result"
    }
   ],
   "source": [
    "FRA_df.Time.isnull().sum()"
   ]
  },
  {
   "cell_type": "code",
   "execution_count": 17,
   "id": "466067f8",
   "metadata": {},
   "outputs": [
    {
     "data": {
      "text/html": [
       "<div>\n",
       "<style scoped>\n",
       "    .dataframe tbody tr th:only-of-type {\n",
       "        vertical-align: middle;\n",
       "    }\n",
       "\n",
       "    .dataframe tbody tr th {\n",
       "        vertical-align: top;\n",
       "    }\n",
       "\n",
       "    .dataframe thead th {\n",
       "        text-align: right;\n",
       "    }\n",
       "</style>\n",
       "<table border=\"1\" class=\"dataframe\">\n",
       "  <thead>\n",
       "    <tr style=\"text-align: right;\">\n",
       "      <th></th>\n",
       "      <th>Year</th>\n",
       "      <th>Date</th>\n",
       "      <th>Police_Sta</th>\n",
       "      <th>Road</th>\n",
       "      <th>Address</th>\n",
       "      <th>City</th>\n",
       "      <th>State</th>\n",
       "      <th>Zip_Code</th>\n",
       "      <th>Time</th>\n",
       "      <th>Kind</th>\n",
       "      <th>Reason</th>\n",
       "      <th>Vehicle</th>\n",
       "      <th>Victim</th>\n",
       "      <th>Age</th>\n",
       "      <th>geometry</th>\n",
       "      <th>Zip_code</th>\n",
       "      <th>_Adress</th>\n",
       "      <th>x</th>\n",
       "      <th>y</th>\n",
       "      <th>year</th>\n",
       "    </tr>\n",
       "  </thead>\n",
       "  <tbody>\n",
       "    <tr>\n",
       "      <th>0</th>\n",
       "      <td>2011.0</td>\n",
       "      <td>2011-01-05</td>\n",
       "      <td>Δ. ΤΡΟΧ. ΑΤΤΙΚΗΣ</td>\n",
       "      <td>Κατοικημένη Περιοχή</td>\n",
       "      <td>41 Γρ. Λαμπράκη</td>\n",
       "      <td>Νίκαια</td>\n",
       "      <td>Αττική</td>\n",
       "      <td>18454.0</td>\n",
       "      <td>07:00 - 09:00</td>\n",
       "      <td>Παράσυρση Πεζού</td>\n",
       "      <td>Αίτια αναφερόμενα στους πεζούς</td>\n",
       "      <td>car</td>\n",
       "      <td>Πεζός</td>\n",
       "      <td>55+</td>\n",
       "      <td>POINT Z (23.66394 37.97742 0.00000)</td>\n",
       "      <td>NaN</td>\n",
       "      <td>NaN</td>\n",
       "      <td>23.663936</td>\n",
       "      <td>37.977418</td>\n",
       "      <td>2011.0</td>\n",
       "    </tr>\n",
       "    <tr>\n",
       "      <th>1</th>\n",
       "      <td>2011.0</td>\n",
       "      <td>2011-01-05</td>\n",
       "      <td>Δ. ΤΡΟΧ. ΑΤΤΙΚΗΣ</td>\n",
       "      <td>Κατοικημένη Περιοχή</td>\n",
       "      <td>59 Κύπρου</td>\n",
       "      <td>Αχαρναί</td>\n",
       "      <td>Αττική</td>\n",
       "      <td>13671.0</td>\n",
       "      <td>24:00 - 07:00</td>\n",
       "      <td>Παράσυρση Πεζού</td>\n",
       "      <td>Αίτια αναφερόμενα στους πεζούς</td>\n",
       "      <td>motorcycle</td>\n",
       "      <td>Πεζός</td>\n",
       "      <td>0-17</td>\n",
       "      <td>POINT Z (23.74438 38.07660 0.00000)</td>\n",
       "      <td>NaN</td>\n",
       "      <td>NaN</td>\n",
       "      <td>23.744384</td>\n",
       "      <td>38.076601</td>\n",
       "      <td>2011.0</td>\n",
       "    </tr>\n",
       "    <tr>\n",
       "      <th>2</th>\n",
       "      <td>2011.0</td>\n",
       "      <td>2011-01-08</td>\n",
       "      <td>Δ. ΤΡΟΧ. ΑΤΤΙΚΗΣ</td>\n",
       "      <td>Κατοικημένη Περιοχή</td>\n",
       "      <td>3 Ανδρέα Παπανδρέου 3</td>\n",
       "      <td>Ίλιον</td>\n",
       "      <td>Αττική</td>\n",
       "      <td>13121.0</td>\n",
       "      <td>17:00 - 21:00</td>\n",
       "      <td>Εκτροπή</td>\n",
       "      <td>Λοιπά αίτια αναφερόμενα σε οδηγούς</td>\n",
       "      <td>motorcycle</td>\n",
       "      <td>Οδηγός</td>\n",
       "      <td>26-35</td>\n",
       "      <td>POINT Z (23.69530 38.02944 0.00000)</td>\n",
       "      <td>NaN</td>\n",
       "      <td>NaN</td>\n",
       "      <td>23.695299</td>\n",
       "      <td>38.029436</td>\n",
       "      <td>2011.0</td>\n",
       "    </tr>\n",
       "  </tbody>\n",
       "</table>\n",
       "</div>"
      ],
      "text/plain": [
       "     Year       Date        Police_Sta                 Road  \\\n",
       "0  2011.0 2011-01-05  Δ. ΤΡΟΧ. ΑΤΤΙΚΗΣ  Κατοικημένη Περιοχή   \n",
       "1  2011.0 2011-01-05  Δ. ΤΡΟΧ. ΑΤΤΙΚΗΣ  Κατοικημένη Περιοχή   \n",
       "2  2011.0 2011-01-08  Δ. ΤΡΟΧ. ΑΤΤΙΚΗΣ  Κατοικημένη Περιοχή   \n",
       "\n",
       "                 Address     City   State  Zip_Code           Time  \\\n",
       "0        41 Γρ. Λαμπράκη   Νίκαια  Αττική   18454.0  07:00 - 09:00   \n",
       "1              59 Κύπρου  Αχαρναί  Αττική   13671.0  24:00 - 07:00   \n",
       "2  3 Ανδρέα Παπανδρέου 3    Ίλιον  Αττική   13121.0  17:00 - 21:00   \n",
       "\n",
       "              Kind                              Reason     Vehicle  Victim  \\\n",
       "0  Παράσυρση Πεζού      Αίτια αναφερόμενα στους πεζούς         car   Πεζός   \n",
       "1  Παράσυρση Πεζού      Αίτια αναφερόμενα στους πεζούς  motorcycle   Πεζός   \n",
       "2          Εκτροπή  Λοιπά αίτια αναφερόμενα σε οδηγούς  motorcycle  Οδηγός   \n",
       "\n",
       "     Age                             geometry  Zip_code _Adress          x  \\\n",
       "0    55+  POINT Z (23.66394 37.97742 0.00000)       NaN     NaN  23.663936   \n",
       "1   0-17  POINT Z (23.74438 38.07660 0.00000)       NaN     NaN  23.744384   \n",
       "2  26-35  POINT Z (23.69530 38.02944 0.00000)       NaN     NaN  23.695299   \n",
       "\n",
       "           y    year  \n",
       "0  37.977418  2011.0  \n",
       "1  38.076601  2011.0  \n",
       "2  38.029436  2011.0  "
      ]
     },
     "execution_count": 17,
     "metadata": {},
     "output_type": "execute_result"
    }
   ],
   "source": [
    "FRA_df.head(3)"
   ]
  },
  {
   "cell_type": "code",
   "execution_count": 18,
   "id": "d6fcb8cc",
   "metadata": {},
   "outputs": [],
   "source": [
    "FRA_df.to_csv('Data/FRA_df.csv', encoding='utf-8')"
   ]
  }
 ],
 "metadata": {
  "kernelspec": {
   "display_name": "Python 3 (ipykernel)",
   "language": "python",
   "name": "python3"
  },
  "language_info": {
   "codemirror_mode": {
    "name": "ipython",
    "version": 3
   },
   "file_extension": ".py",
   "mimetype": "text/x-python",
   "name": "python",
   "nbconvert_exporter": "python",
   "pygments_lexer": "ipython3",
   "version": "3.8.10"
  }
 },
 "nbformat": 4,
 "nbformat_minor": 5
}
